{
  "nbformat": 4,
  "nbformat_minor": 0,
  "metadata": {
    "colab": {
      "name": "Linear_SVM.ipynb",
      "provenance": [],
      "authorship_tag": "ABX9TyNuxLvZKTVvkQMiizbn/myV"
    },
    "kernelspec": {
      "name": "python3",
      "display_name": "Python 3"
    }
  },
  "cells": [
    {
      "cell_type": "code",
      "metadata": {
        "id": "IitP_XCenZob"
      },
      "source": [
        "import seaborn as sns\n",
        "\n",
        "iris = sns.load_dataset('iris')\n",
        "#iris 데이터 불러오기 \n",
        "\n",
        "X = iris.drop('species',axis = 1)\n",
        "# 특성변수만으로 구성된 X data frame 생성 \n",
        "\n",
        "y = iris['species']\n",
        "#분류 목적 변수만으로 구성된 y data frame 생성 \n",
        "\n",
        "from sklearn.preprocessing import LabelEncoder \n",
        "#범주형 변수 숫자로 치환하는 함수 호출\n",
        "classle=LabelEncoder()\n",
        "y=classle.fit_transform(iris['species'].values)\n",
        "#범주형 변수 숫자로 치환\n",
        "\n",
        "\n",
        "from sklearn.model_selection import train_test_split\n",
        "#train set 과 test set으로 데이터 나누기 \n",
        "\n",
        "X_train,X_test,y_train,y_test = train_test_split(X,y,test_size = 0.3, random_state=1,stratify=y)"
      ],
      "execution_count": 3,
      "outputs": []
    },
    {
      "cell_type": "code",
      "metadata": {
        "colab": {
          "base_uri": "https://localhost:8080/"
        },
        "id": "fg88C_M-oV6d",
        "outputId": "88347a4e-3e88-40f1-83a2-9dadceef6cfa"
      },
      "source": [
        "# python svm\n",
        "\n",
        "from sklearn.svm import SVC\n",
        "# svm 함수 호출\n",
        "\n",
        "svm  = SVC(kernel = 'linear',C = 1.0, random_state = 1)\n",
        "svm.fit(X_train,y_train)\n",
        "\n",
        "y_train_pred = svm.predict(X_train)\n",
        "#train set 의 y 예측치 구하기 \n",
        "\n",
        "y_test_pred = svm.predict(X_test)\n",
        "# test set 의 y 예측치 구하기 \n",
        "\n",
        "print(svm.support_)\n",
        "print(svm.n_support_)\n",
        "\n"
      ],
      "execution_count": 4,
      "outputs": [
        {
          "output_type": "stream",
          "text": [
            "[ 16  43  77 100  10  26  45  49  59  69  72  79  96  99  20  33  34  38\n",
            "  40  42  66  81  84]\n",
            "[ 4 10  9]\n"
          ],
          "name": "stdout"
        }
      ]
    },
    {
      "cell_type": "code",
      "metadata": {
        "colab": {
          "base_uri": "https://localhost:8080/"
        },
        "id": "SfS0m6zXp8Dw",
        "outputId": "70060436-85f4-4ebd-85ac-2102d7815966"
      },
      "source": [
        "from sklearn import metrics \n",
        "print(metrics.accuracy_score(y_train,y_train_pred))\n",
        "print(metrics.accuracy_score(y_test,y_test_pred))\n",
        "\n"
      ],
      "execution_count": 5,
      "outputs": [
        {
          "output_type": "stream",
          "text": [
            "0.9714285714285714\n",
            "0.9777777777777777\n"
          ],
          "name": "stdout"
        }
      ]
    },
    {
      "cell_type": "code",
      "metadata": {
        "colab": {
          "base_uri": "https://localhost:8080/"
        },
        "id": "-dnCaSNAqN8N",
        "outputId": "17451ef5-24b5-4589-ab7f-041eb2aa0180"
      },
      "source": [
        "metrics.confusion_matrix(y_test,y_test_pred)\n",
        "# confusion_ matrix\n"
      ],
      "execution_count": 6,
      "outputs": [
        {
          "output_type": "execute_result",
          "data": {
            "text/plain": [
              "array([[15,  0,  0],\n",
              "       [ 0, 15,  0],\n",
              "       [ 0,  1, 14]])"
            ]
          },
          "metadata": {
            "tags": []
          },
          "execution_count": 6
        }
      ]
    },
    {
      "cell_type": "code",
      "metadata": {
        "colab": {
          "base_uri": "https://localhost:8080/"
        },
        "id": "eq1RW5LcqYEP",
        "outputId": "4f77c1e0-89a2-4304-af92-87cc085c1e19"
      },
      "source": [
        "from sklearn import metrics\n",
        "print(metrics.classification_report(y_test,y_test_pred))\n"
      ],
      "execution_count": 7,
      "outputs": [
        {
          "output_type": "stream",
          "text": [
            "              precision    recall  f1-score   support\n",
            "\n",
            "           0       1.00      1.00      1.00        15\n",
            "           1       0.94      1.00      0.97        15\n",
            "           2       1.00      0.93      0.97        15\n",
            "\n",
            "    accuracy                           0.98        45\n",
            "   macro avg       0.98      0.98      0.98        45\n",
            "weighted avg       0.98      0.98      0.98        45\n",
            "\n"
          ],
          "name": "stdout"
        }
      ]
    }
  ]
}