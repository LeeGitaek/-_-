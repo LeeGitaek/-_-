{
  "nbformat": 4,
  "nbformat_minor": 0,
  "metadata": {
    "colab": {
      "name": "KNN+dataset.ipynb",
      "provenance": [],
      "authorship_tag": "ABX9TyORw2I19WkiC5DH7gzLDKBf",
      "include_colab_link": true
    },
    "kernelspec": {
      "name": "python3",
      "display_name": "Python 3"
    },
    "accelerator": "GPU"
  },
  "cells": [
    {
      "cell_type": "markdown",
      "metadata": {
        "id": "view-in-github",
        "colab_type": "text"
      },
      "source": [
        "<a href=\"https://colab.research.google.com/github/LeeGitaek/-_-/blob/master/KNN%2Bdataset.ipynb\" target=\"_parent\"><img src=\"https://colab.research.google.com/assets/colab-badge.svg\" alt=\"Open In Colab\"/></a>"
      ]
    },
    {
      "cell_type": "markdown",
      "metadata": {
        "id": "bru-0Z3gJv-F",
        "colab_type": "text"
      },
      "source": [
        "iris 데이터셋 불러오기\n"
      ]
    },
    {
      "cell_type": "code",
      "metadata": {
        "id": "9zwt1yCnJCw2",
        "colab_type": "code",
        "colab": {
          "base_uri": "https://localhost:8080/",
          "height": 173
        },
        "outputId": "ace75605-50e6-4f67-d3a6-17a20aeca498"
      },
      "source": [
        "import seaborn as sns\n",
        "iris = sns.load_dataset('iris')\n",
        "print(iris.head())"
      ],
      "execution_count": 1,
      "outputs": [
        {
          "output_type": "stream",
          "text": [
            "   sepal_length  sepal_width  petal_length  petal_width species\n",
            "0           5.1          3.5           1.4          0.2  setosa\n",
            "1           4.9          3.0           1.4          0.2  setosa\n",
            "2           4.7          3.2           1.3          0.2  setosa\n",
            "3           4.6          3.1           1.5          0.2  setosa\n",
            "4           5.0          3.6           1.4          0.2  setosa\n"
          ],
          "name": "stdout"
        },
        {
          "output_type": "stream",
          "text": [
            "/usr/local/lib/python3.6/dist-packages/statsmodels/tools/_testing.py:19: FutureWarning: pandas.util.testing is deprecated. Use the functions in the public API at pandas.testing instead.\n",
            "  import pandas.util.testing as tm\n"
          ],
          "name": "stderr"
        }
      ]
    },
    {
      "cell_type": "code",
      "metadata": {
        "id": "k84rkBgJJadi",
        "colab_type": "code",
        "colab": {
          "base_uri": "https://localhost:8080/",
          "height": 51
        },
        "outputId": "c46002a8-9953-44d8-88a3-5e379019ab85"
      },
      "source": [
        "print(iris.shape)\n",
        "X = iris.drop('species',axis = 1)\n",
        "print(X.shape)\n",
        "y=iris['species']"
      ],
      "execution_count": 3,
      "outputs": [
        {
          "output_type": "stream",
          "text": [
            "(150, 5)\n",
            "(150, 4)\n"
          ],
          "name": "stdout"
        }
      ]
    },
    {
      "cell_type": "markdown",
      "metadata": {
        "id": "Q2A5w5faJ4Ml",
        "colab_type": "text"
      },
      "source": [
        "카테고리의 실수화 "
      ]
    },
    {
      "cell_type": "code",
      "metadata": {
        "id": "puX-ZWZoJ55p",
        "colab_type": "code",
        "colab": {
          "base_uri": "https://localhost:8080/",
          "height": 34
        },
        "outputId": "c2acc4a1-4b22-4f36-8471-4a205ac99a5c"
      },
      "source": [
        "from sklearn.preprocessing import LabelEncoder\n",
        "import numpy as np\n",
        "classic = LabelEncoder()\n",
        "y = classic.fit_transform(iris['species'].values)\n",
        "print('species labels :',np.unique(y))"
      ],
      "execution_count": 5,
      "outputs": [
        {
          "output_type": "stream",
          "text": [
            "species labels : [0 1 2]\n"
          ],
          "name": "stdout"
        }
      ]
    },
    {
      "cell_type": "code",
      "metadata": {
        "id": "JD2ZFxAFKbkA",
        "colab_type": "code",
        "colab": {
          "base_uri": "https://localhost:8080/",
          "height": 34
        },
        "outputId": "303d2b1a-829e-46ef-98dd-57f1304c4e13"
      },
      "source": [
        "yo = classic.inverse_transform(y) # 원래의 species 문자열로 전환 \n",
        "print('species:',np.unique(yo))"
      ],
      "execution_count": 6,
      "outputs": [
        {
          "output_type": "stream",
          "text": [
            "species: ['setosa' 'versicolor' 'virginica']\n"
          ],
          "name": "stdout"
        }
      ]
    },
    {
      "cell_type": "markdown",
      "metadata": {
        "id": "0T8HatGSMS6D",
        "colab_type": "text"
      },
      "source": [
        "데이터 분할 "
      ]
    },
    {
      "cell_type": "code",
      "metadata": {
        "id": "BaS5x9Y3MUt4",
        "colab_type": "code",
        "colab": {
          "base_uri": "https://localhost:8080/",
          "height": 85
        },
        "outputId": "004bfe07-b088-4229-f971-485b2e567390"
      },
      "source": [
        "from sklearn.model_selection import train_test_split\n",
        "\n",
        "X_train,X_test,y_train,y_test = train_test_split(X,y, test_size=0.3, random_state=1, stratify=y)\n",
        "\n",
        "print(X_train.shape)\n",
        "print(X_test.shape)\n",
        "print(y_train.shape)\n",
        "print(y_test.shape)\n"
      ],
      "execution_count": 7,
      "outputs": [
        {
          "output_type": "stream",
          "text": [
            "(105, 4)\n",
            "(45, 4)\n",
            "(105,)\n",
            "(45,)\n"
          ],
          "name": "stdout"
        }
      ]
    },
    {
      "cell_type": "markdown",
      "metadata": {
        "id": "NRLiPoCRP-yi",
        "colab_type": "text"
      },
      "source": [
        "모형 추정 및 사례중심 학습\n"
      ]
    },
    {
      "cell_type": "code",
      "metadata": {
        "id": "YdrYrcmiQBU8",
        "colab_type": "code",
        "colab": {
          "base_uri": "https://localhost:8080/",
          "height": 68
        },
        "outputId": "832ff3d9-3c0b-4684-81b5-f3dc16d9103e"
      },
      "source": [
        "from sklearn.neighbors import KNeighborsClassifier\n",
        "knn = KNeighborsClassifier(n_neighbors=5,p=2)\n",
        "#5개의 인접한 이웃, 거리측정기준 : 유클리드 \n",
        "#knn.fit\n",
        "knn.fit(X_train,y_train)\n"
      ],
      "execution_count": 8,
      "outputs": [
        {
          "output_type": "execute_result",
          "data": {
            "text/plain": [
              "KNeighborsClassifier(algorithm='auto', leaf_size=30, metric='minkowski',\n",
              "                     metric_params=None, n_jobs=None, n_neighbors=5, p=2,\n",
              "                     weights='uniform')"
            ]
          },
          "metadata": {
            "tags": []
          },
          "execution_count": 8
        }
      ]
    },
    {
      "cell_type": "code",
      "metadata": {
        "id": "njLwZPq-QrF1",
        "colab_type": "code",
        "colab": {
          "base_uri": "https://localhost:8080/",
          "height": 51
        },
        "outputId": "377eed89-1156-40d9-920e-2f75ae978524"
      },
      "source": [
        "y_train_pred = knn.predict(X_train)\n",
        "y_test_pred = knn.predict(X_test) #모델을 적용한 test data dml y값 예측치 \n",
        "print('Misclassified training samples : %d' %(y_train!=y_train_pred).sum())\n",
        "# 오분류 데이터 갯수 확인 \n",
        "print('Misclassified test samples : %d' %(y_test!=y_test_pred).sum())"
      ],
      "execution_count": 16,
      "outputs": [
        {
          "output_type": "stream",
          "text": [
            "Misclassified training samples : 2\n",
            "Misclassified test samples : 1\n"
          ],
          "name": "stdout"
        }
      ]
    },
    {
      "cell_type": "code",
      "metadata": {
        "id": "rnYlq01QToTN",
        "colab_type": "code",
        "colab": {
          "base_uri": "https://localhost:8080/",
          "height": 34
        },
        "outputId": "8e0b53a2-32dd-4d71-d5bc-797db6ed15da"
      },
      "source": [
        "from sklearn.metrics import accuracy_score\n",
        "print(accuracy_score(y_test,y_test_pred))\n",
        "# 싸이킷런 제공 분류 성능 평가 방법 \n",
        "#confusion_matrix\n",
        "#accuracy_score\n",
        "#precision_score\n",
        "#recall_score\n",
        "#fbeta_score\n",
        "#f1_score\n",
        "#roc_curve\n",
        "#auc"
      ],
      "execution_count": 17,
      "outputs": [
        {
          "output_type": "stream",
          "text": [
            "0.9777777777777777\n"
          ],
          "name": "stdout"
        }
      ]
    },
    {
      "cell_type": "code",
      "metadata": {
        "id": "lhAjQZteUMm3",
        "colab_type": "code",
        "colab": {
          "base_uri": "https://localhost:8080/",
          "height": 68
        },
        "outputId": "7fbbdef2-cc54-487d-f776-0b901a087ef4"
      },
      "source": [
        "from sklearn.metrics import confusion_matrix\n",
        "conf = confusion_matrix(y_true=y_test,y_pred=y_test_pred)\n",
        "#confusion matrix : 혼합행렬 => 타겟의 원래 클래스와 모형이 예측한 클래스가 일치하는지\n",
        "#갯수로 센 결과를 표로 나타낸 것.\n",
        "print(conf)"
      ],
      "execution_count": 18,
      "outputs": [
        {
          "output_type": "stream",
          "text": [
            "[[15  0  0]\n",
            " [ 0 15  0]\n",
            " [ 0  1 14]]\n"
          ],
          "name": "stdout"
        }
      ]
    },
    {
      "cell_type": "markdown",
      "metadata": {
        "id": "P52-uDg7XgHS",
        "colab_type": "text"
      },
      "source": [
        "(옵션) 입력데이터의 표준화 "
      ]
    },
    {
      "cell_type": "code",
      "metadata": {
        "id": "CsxzCQ9gXicU",
        "colab_type": "code",
        "colab": {
          "base_uri": "https://localhost:8080/",
          "height": 187
        },
        "outputId": "b82229e4-1dcd-4eb4-817f-78b499e75cbc"
      },
      "source": [
        "#표준화 : 특성자료의 측정 단위에 의해 영향 받지 않도록 하는 과정\n",
        "#시험 데이터의 표준화는 학습 데이터에서 구한 특성 변수의 평균과 표준편차를 이용함.\n",
        "#표준화로 인해 데이터의 분포인 통계적 특성이 깨지면 머신러닝의 학습 저하를 가져옴  \n",
        "from sklearn.preprocessing import StandardScaler\n",
        "sc = StandardScaler()\n",
        "sc.fit(X_train)\n",
        "X_train_std = sc.transform(X_train)\n",
        "X_test_std = sc.transform(X_test)\n",
        "\n",
        "#표준화된 data 의 확인 \n",
        "print(X_train.head())\n",
        "X_train_std[1:5,]\n"
      ],
      "execution_count": 19,
      "outputs": [
        {
          "output_type": "stream",
          "text": [
            "     sepal_length  sepal_width  petal_length  petal_width\n",
            "33            5.5          4.2           1.4          0.2\n",
            "20            5.4          3.4           1.7          0.2\n",
            "115           6.4          3.2           5.3          2.3\n",
            "124           6.7          3.3           5.7          2.1\n",
            "35            5.0          3.2           1.2          0.2\n"
          ],
          "name": "stdout"
        },
        {
          "output_type": "execute_result",
          "data": {
            "text/plain": [
              "array([[-0.55053619,  0.76918392, -1.16537974, -1.30728421],\n",
              "       [ 0.65376173,  0.30368356,  0.84243039,  1.44587881],\n",
              "       [ 1.0150511 ,  0.53643374,  1.0655204 ,  1.18367281],\n",
              "       [-1.03225536,  0.30368356, -1.44424226, -1.30728421]])"
            ]
          },
          "metadata": {
            "tags": []
          },
          "execution_count": 19
        }
      ]
    },
    {
      "cell_type": "code",
      "metadata": {
        "id": "fgeR6ZKfYkTP",
        "colab_type": "code",
        "colab": {
          "base_uri": "https://localhost:8080/",
          "height": 68
        },
        "outputId": "280faa69-ae5d-46ee-f4b7-37130d82c33e"
      },
      "source": [
        "from sklearn.neighbors import KNeighborsClassifier\n",
        "knn = KNeighborsClassifier(n_neighbors=5,p=2) #5개의 인접한 이웃, 거리측정 기준 유클리드\n",
        "knn.fit(X_train_std,y_train) # 모델 fitting "
      ],
      "execution_count": 20,
      "outputs": [
        {
          "output_type": "execute_result",
          "data": {
            "text/plain": [
              "KNeighborsClassifier(algorithm='auto', leaf_size=30, metric='minkowski',\n",
              "                     metric_params=None, n_jobs=None, n_neighbors=5, p=2,\n",
              "                     weights='uniform')"
            ]
          },
          "metadata": {
            "tags": []
          },
          "execution_count": 20
        }
      ]
    },
    {
      "cell_type": "code",
      "metadata": {
        "id": "KaHv_ui5ZjJS",
        "colab_type": "code",
        "colab": {
          "base_uri": "https://localhost:8080/",
          "height": 51
        },
        "outputId": "9386dbaf-9c08-4504-ca81-d92a2fbb5c17"
      },
      "source": [
        "y_train_pred = knn.predict(X_train_std)\n",
        "y_test_pred = knn.predict(X_test_std)\n",
        "\n",
        "print('Misclassified training samples : %d' %(y_train!=y_train_pred).sum())\n",
        "print('Misclassified test samples : %d' %(y_test!=y_test_pred).sum())\n"
      ],
      "execution_count": 21,
      "outputs": [
        {
          "output_type": "stream",
          "text": [
            "Misclassified training samples : 4\n",
            "Misclassified test samples : 3\n"
          ],
          "name": "stdout"
        }
      ]
    },
    {
      "cell_type": "code",
      "metadata": {
        "id": "6vAX2BfoaLoM",
        "colab_type": "code",
        "colab": {
          "base_uri": "https://localhost:8080/",
          "height": 34
        },
        "outputId": "5f42f5ac-db14-4002-cff0-0b711e06bfda"
      },
      "source": [
        "from sklearn.metrics import accuracy_score\n",
        "print(accuracy_score(y_test,y_test_pred))\n",
        "# 표준화로 인해 정확도가 97.8 에서 93.3 으로 떨어진 사례이다. \n",
        "# 표준화 여부는 시험 데이터와 정밀도를 점검하여 결정하도록 한다. "
      ],
      "execution_count": 22,
      "outputs": [
        {
          "output_type": "stream",
          "text": [
            "0.9333333333333333\n"
          ],
          "name": "stdout"
        }
      ]
    },
    {
      "cell_type": "markdown",
      "metadata": {
        "id": "nmzw4NntcOdl",
        "colab_type": "text"
      },
      "source": [
        "KNN 회귀를 이용한 영화 평점 예측 "
      ]
    },
    {
      "cell_type": "code",
      "metadata": {
        "id": "cj2pXa29cNU8",
        "colab_type": "code",
        "colab": {
          "base_uri": "https://localhost:8080/",
          "height": 34
        },
        "outputId": "f2717215-6dfd-41c9-8324-da27cafa9ba1"
      },
      "source": [
        "from sklearn.neighbors import KNeighborsRegressor\n",
        "\n",
        "regressor = KNeighborsRegressor(n_neighbors=3,weights = \"distance\")\n",
        "training_points = [\n",
        "    [0.5,0.2,0.1],\n",
        "    [0.9,0.7,0.3],\n",
        "    [0.4,0.5,0.7]\n",
        "]\n",
        "\n",
        "training_labels = [5.0,6.8,9.0]\n",
        "regressor.fit(training_points, training_labels)\n",
        "\n",
        "unknown_points = [\n",
        "    [0.2,0.1,0.7],\n",
        "    [0.4,0.7,0.6],\n",
        "    [0.5,0.8,0.1]\n",
        "]\n",
        "\n",
        "guesses = regressor.predict(unknown_points)\n",
        "guesses"
      ],
      "execution_count": 26,
      "outputs": [
        {
          "output_type": "execute_result",
          "data": {
            "text/plain": [
              "array([7.28143288, 7.76451922, 6.8457845 ])"
            ]
          },
          "metadata": {
            "tags": []
          },
          "execution_count": 26
        }
      ]
    }
  ]
}