{
  "nbformat": 4,
  "nbformat_minor": 0,
  "metadata": {
    "colab": {
      "name": "KNN_classifier_diabetes.ipynb",
      "provenance": [],
      "collapsed_sections": [],
      "authorship_tag": "ABX9TyP/i7hbuMqTAWtcjXHamcai"
    },
    "kernelspec": {
      "name": "python3",
      "display_name": "Python 3"
    },
    "accelerator": "GPU"
  },
  "cells": [
    {
      "cell_type": "code",
      "metadata": {
        "id": "hVa7fBNxoyIO",
        "colab_type": "code",
        "colab": {
          "base_uri": "https://localhost:8080/",
          "height": 547
        },
        "outputId": "37e191ec-3278-45bc-a67d-a9d1625cbf70"
      },
      "source": [
        "!pip uninstall --y kaggle\n",
        "!pip install --upgrade pip\n",
        "!pip install kaggle==1.5.6"
      ],
      "execution_count": null,
      "outputs": [
        {
          "output_type": "stream",
          "text": [
            "Uninstalling kaggle-1.5.8:\n",
            "  Successfully uninstalled kaggle-1.5.8\n",
            "Collecting pip\n",
            "\u001b[?25l  Downloading https://files.pythonhosted.org/packages/4e/5f/528232275f6509b1fff703c9280e58951a81abe24640905de621c9f81839/pip-20.2.3-py2.py3-none-any.whl (1.5MB)\n",
            "\u001b[K     |████████████████████████████████| 1.5MB 4.9MB/s \n",
            "\u001b[?25hInstalling collected packages: pip\n",
            "  Found existing installation: pip 19.3.1\n",
            "    Uninstalling pip-19.3.1:\n",
            "      Successfully uninstalled pip-19.3.1\n",
            "Successfully installed pip-20.2.3\n",
            "Collecting kaggle==1.5.6\n",
            "  Downloading kaggle-1.5.6.tar.gz (58 kB)\n",
            "\u001b[K     |████████████████████████████████| 58 kB 2.2 MB/s \n",
            "\u001b[?25hRequirement already satisfied: urllib3<1.25,>=1.21.1 in /usr/local/lib/python3.6/dist-packages (from kaggle==1.5.6) (1.24.3)\n",
            "Requirement already satisfied: six>=1.10 in /usr/local/lib/python3.6/dist-packages (from kaggle==1.5.6) (1.15.0)\n",
            "Requirement already satisfied: certifi in /usr/local/lib/python3.6/dist-packages (from kaggle==1.5.6) (2020.6.20)\n",
            "Requirement already satisfied: python-dateutil in /usr/local/lib/python3.6/dist-packages (from kaggle==1.5.6) (2.8.1)\n",
            "Requirement already satisfied: requests in /usr/local/lib/python3.6/dist-packages (from kaggle==1.5.6) (2.23.0)\n",
            "Requirement already satisfied: tqdm in /usr/local/lib/python3.6/dist-packages (from kaggle==1.5.6) (4.41.1)\n",
            "Requirement already satisfied: python-slugify in /usr/local/lib/python3.6/dist-packages (from kaggle==1.5.6) (4.0.1)\n",
            "Requirement already satisfied: chardet<4,>=3.0.2 in /usr/local/lib/python3.6/dist-packages (from requests->kaggle==1.5.6) (3.0.4)\n",
            "Requirement already satisfied: idna<3,>=2.5 in /usr/local/lib/python3.6/dist-packages (from requests->kaggle==1.5.6) (2.10)\n",
            "Requirement already satisfied: text-unidecode>=1.3 in /usr/local/lib/python3.6/dist-packages (from python-slugify->kaggle==1.5.6) (1.3)\n",
            "Building wheels for collected packages: kaggle\n",
            "  Building wheel for kaggle (setup.py) ... \u001b[?25l\u001b[?25hdone\n",
            "  Created wheel for kaggle: filename=kaggle-1.5.6-py3-none-any.whl size=72859 sha256=1269b9aecd65ade5a1563e77e46391e64469394270959113f2a3a8281559a3b1\n",
            "  Stored in directory: /root/.cache/pip/wheels/01/3e/ff/77407ebac3ef71a79b9166a8382aecf88415a0bcbe3c095a01\n",
            "Successfully built kaggle\n",
            "Installing collected packages: kaggle\n",
            "Successfully installed kaggle-1.5.6\n"
          ],
          "name": "stdout"
        }
      ]
    },
    {
      "cell_type": "code",
      "metadata": {
        "id": "qrmhLbL0qLme",
        "colab_type": "code",
        "colab": {
          "base_uri": "https://localhost:8080/",
          "height": 34
        },
        "outputId": "bf495fec-c108-4266-e940-5e6ba4873d91"
      },
      "source": [
        "!mkdir -p ~/.kaggle\n",
        "!cp kaggle.json ~/.kaggle\n",
        "!ls -lha kaggle.json\n",
        "!chmod 600 ~/.kaggle/kaggle.json"
      ],
      "execution_count": null,
      "outputs": [
        {
          "output_type": "stream",
          "text": [
            "-rw-r--r-- 1 root root 68 Sep 23 19:37 kaggle.json\n"
          ],
          "name": "stdout"
        }
      ]
    },
    {
      "cell_type": "code",
      "metadata": {
        "id": "_tURBs7QqPhL",
        "colab_type": "code",
        "colab": {
          "base_uri": "https://localhost:8080/",
          "height": 68
        },
        "outputId": "8d396198-74c5-4b9c-f49c-28c1b629a644"
      },
      "source": [
        "!kaggle competitions download -c logistic-classification-diabetes-knn"
      ],
      "execution_count": null,
      "outputs": [
        {
          "output_type": "stream",
          "text": [
            "Downloading logistic-classification-diabetes-knn.zip to /content\n",
            "\r  0% 0.00/16.3k [00:00<?, ?B/s]\n",
            "\r100% 16.3k/16.3k [00:00<00:00, 15.7MB/s]\n"
          ],
          "name": "stdout"
        }
      ]
    },
    {
      "cell_type": "code",
      "metadata": {
        "id": "hvmAolZAqXNl",
        "colab_type": "code",
        "colab": {
          "base_uri": "https://localhost:8080/",
          "height": 85
        },
        "outputId": "39bc83f8-f9e4-411e-bf01-302f1b92bf5b"
      },
      "source": [
        "!unzip logistic-classification-diabetes-knn.zip"
      ],
      "execution_count": null,
      "outputs": [
        {
          "output_type": "stream",
          "text": [
            "Archive:  logistic-classification-diabetes-knn.zip\n",
            "  inflating: submission_form.csv     \n",
            "  inflating: test_data.csv           \n",
            "  inflating: train.csv               \n"
          ],
          "name": "stdout"
        }
      ]
    },
    {
      "cell_type": "code",
      "metadata": {
        "id": "Yr2M9b0BqcGe",
        "colab_type": "code",
        "colab": {}
      },
      "source": [
        "import numpy as np\n",
        "import pandas as pd\n",
        "import seaborn as sns\n",
        "import random \n",
        "from sklearn.impute import SimpleImputer\n",
        "import matplotlib.pyplot as plt"
      ],
      "execution_count": null,
      "outputs": []
    },
    {
      "cell_type": "code",
      "metadata": {
        "id": "TgUzvJInrUQ2",
        "colab_type": "code",
        "colab": {
          "base_uri": "https://localhost:8080/",
          "height": 1000
        },
        "outputId": "2e35f697-f99c-4e81-d934-54bd07bc7e9b"
      },
      "source": [
        "train = pd.read_csv('train.csv',header=None,skiprows=1)\n",
        "test = pd.read_csv('test_data.csv',header=None,skiprows=1)\n",
        "train = train.dropna()\n",
        "train = train.drop(5,axis=1)\n",
        "train = train.drop(4,axis=1)\n",
        "X = train.iloc[:,1:-1]\n",
        "y = train.iloc[:,-1:]\n",
        "\n",
        "print(X.head(20))\n",
        "print(X.describe())\n",
        "print(X.info(verbose=True))\n",
        "\n",
        "print(X.shape)\n",
        "print(y.shape)\n",
        "\n",
        "test_x = test.drop(5,axis=1)\n",
        "test_x = test_x.drop(4,axis=1)\n",
        "test_x = test_x.iloc[:,1:-1]\n",
        "\n",
        "print(test_x.head(20))\n"
      ],
      "execution_count": null,
      "outputs": [
        {
          "output_type": "stream",
          "text": [
            "           1         2         3         6         7         8\n",
            "0  -0.294118  0.487437  0.180328  0.001490 -0.531170 -0.033333\n",
            "1  -0.882353 -0.145729  0.081967 -0.207153 -0.766866 -0.666667\n",
            "2  -0.058824  0.839196  0.049180 -0.305514 -0.492741 -0.633333\n",
            "3  -0.882353 -0.105528  0.081967 -0.162444 -0.923997  0.000000\n",
            "4   0.000000  0.376884 -0.344262  0.284650  0.887276 -0.600000\n",
            "5  -0.411765  0.165829  0.213115 -0.236960 -0.894962 -0.700000\n",
            "6  -0.647059 -0.216080 -0.180328 -0.076006 -0.854825 -0.833333\n",
            "7   0.176471  0.155779  0.000000  0.052161 -0.952178 -0.733333\n",
            "8  -0.764706  0.979899  0.147541 -0.090909 -0.931682  0.066667\n",
            "9  -0.058824  0.256281  0.573770  0.000000 -0.868488  0.100000\n",
            "10 -0.529412  0.105528  0.508197  0.120715 -0.903501 -0.700000\n",
            "11  0.176471  0.688442  0.213115  0.132638 -0.608027 -0.566667\n",
            "12  0.176471  0.396985  0.311475 -0.192250  0.163962  0.200000\n",
            "13 -0.882353  0.899497 -0.016393 -0.102832 -0.726729  0.266667\n",
            "14 -0.176471  0.005025  0.000000 -0.105812 -0.653288 -0.633333\n",
            "15  0.000000  0.185930  0.377049  0.365127 -0.596072 -0.666667\n",
            "16 -0.176471  0.075377  0.213115 -0.117735 -0.849701 -0.666667\n",
            "17 -0.882353  0.035176 -0.508197  0.290611 -0.910333 -0.600000\n",
            "18 -0.882353  0.155779  0.147541  0.031296 -0.614859 -0.633333\n",
            "19 -0.647059  0.266332  0.442623  0.171386 -0.465414 -0.800000\n",
            "                1           2           3           6           7           8\n",
            "count  709.000000  709.000000  709.000000  709.000000  709.000000  709.000000\n",
            "mean    -0.402887    0.217576    0.173114   -0.034931   -0.660509   -0.517913\n",
            "std      0.384125    0.307420    0.201122    0.206563    0.286892    0.401090\n",
            "min     -0.882353   -0.557789   -0.606557   -0.457526   -0.994876   -0.966667\n",
            "25%     -0.764706   -0.005025    0.016393   -0.183308   -0.861657   -0.866667\n",
            "50%     -0.411765    0.165829    0.147541   -0.037258   -0.745517   -0.666667\n",
            "75%      0.000000    0.407035    0.311475    0.084948   -0.522630   -0.233333\n",
            "max      1.000000    1.000000    1.000000    1.000000    1.000000    1.000000\n",
            "<class 'pandas.core.frame.DataFrame'>\n",
            "Int64Index: 709 entries, 0 to 708\n",
            "Data columns (total 6 columns):\n",
            " #   Column  Non-Null Count  Dtype  \n",
            "---  ------  --------------  -----  \n",
            " 0   1       709 non-null    float64\n",
            " 1   2       709 non-null    float64\n",
            " 2   3       709 non-null    float64\n",
            " 3   6       709 non-null    float64\n",
            " 4   7       709 non-null    float64\n",
            " 5   8       709 non-null    float64\n",
            "dtypes: float64(6)\n",
            "memory usage: 38.8 KB\n",
            "None\n",
            "(709, 6)\n",
            "(709, 1)\n",
            "           1         2         3         6         7         8\n",
            "0  -0.882353  0.085427 -0.016393  0.058122 -0.712212 -0.900000\n",
            "1  -0.411765 -0.025126  0.245902  0.061103 -0.743809  0.033333\n",
            "2  -0.529412 -0.165829  0.409836 -0.126677 -0.795901 -0.566667\n",
            "3  -0.882353  0.145729  0.081967  0.135618 -0.819812  0.000000\n",
            "4  -0.882353  0.497487  0.114754 -0.126677 -0.768574 -0.300000\n",
            "5  -0.411765  0.175879  0.409836  0.165425 -0.852263 -0.300000\n",
            "6  -0.882353  0.115578  0.540984 -0.022355 -0.840307 -0.200000\n",
            "7  -0.529412  0.125628  0.278689  0.174367 -0.865073 -0.433333\n",
            "8  -0.882353  0.165829  0.278689  0.076006 -0.643040 -0.866667\n",
            "9   0.000000  0.417085  0.377049 -0.034277 -0.696840 -0.966667\n",
            "10 -0.764706  0.758794  0.442623 -0.317437 -0.788215 -0.966667\n",
            "11 -0.764706 -0.075377 -0.147541 -0.102832 -0.946200 -0.966667\n",
            "12 -0.647059  0.306533  0.278689 -0.153502 -0.790777 -0.566667\n",
            "13 -0.058824  0.206030  0.409836 -0.153502 -0.845431 -0.966667\n",
            "14 -0.764706  0.748744  0.442623  0.326379 -0.514944 -0.900000\n",
            "15 -0.764706  0.065327 -0.081967 -0.135618 -0.702818 -0.966667\n",
            "16 -0.764706  0.055276  0.229508 -0.305514 -0.588386  0.066667\n",
            "17 -0.529412 -0.045226 -0.016393  0.055142 -0.824082 -0.766667\n",
            "18  0.000000  0.266332  0.409836 -0.183308 -0.626815  0.000000\n",
            "19 -0.058824 -0.346734  0.180328 -0.046200 -0.554227 -0.300000\n"
          ],
          "name": "stdout"
        }
      ]
    },
    {
      "cell_type": "code",
      "metadata": {
        "id": "ZdV7K7N5y2IR",
        "colab_type": "code",
        "colab": {
          "base_uri": "https://localhost:8080/",
          "height": 88
        },
        "outputId": "8800874b-4ace-4ce0-d863-26983ee8f1fa"
      },
      "source": [
        "from sklearn.preprocessing import LabelEncoder\n",
        "import numpy as np\n",
        "classic = LabelEncoder()\n",
        "y = classic.fit_transform(y.values)\n",
        "print('diabetes labels :',np.unique(y))"
      ],
      "execution_count": null,
      "outputs": [
        {
          "output_type": "stream",
          "text": [
            "diabetes labels : [0 1]\n"
          ],
          "name": "stdout"
        },
        {
          "output_type": "stream",
          "text": [
            "/usr/local/lib/python3.6/dist-packages/sklearn/preprocessing/_label.py:251: DataConversionWarning: A column-vector y was passed when a 1d array was expected. Please change the shape of y to (n_samples, ), for example using ravel().\n",
            "  y = column_or_1d(y, warn=True)\n"
          ],
          "name": "stderr"
        }
      ]
    },
    {
      "cell_type": "code",
      "metadata": {
        "id": "98jN-hUozjgk",
        "colab_type": "code",
        "colab": {
          "base_uri": "https://localhost:8080/",
          "height": 85
        },
        "outputId": "e5964078-176f-42d0-f2a4-802af0fa71d7"
      },
      "source": [
        "from sklearn.model_selection import train_test_split\n",
        "\n",
        "X_train,X_test,y_train,y_test = train_test_split(X,y, test_size=0.4, random_state=42, stratify=y, shuffle=True)\n",
        "\n",
        "print(X_train.shape)\n",
        "print(X_test.shape)\n",
        "print(y_train.shape)\n",
        "print(y_test.shape)"
      ],
      "execution_count": null,
      "outputs": [
        {
          "output_type": "stream",
          "text": [
            "(425, 6)\n",
            "(284, 6)\n",
            "(425,)\n",
            "(284,)\n"
          ],
          "name": "stdout"
        }
      ]
    },
    {
      "cell_type": "code",
      "metadata": {
        "id": "ck6Ja9bC0Dsg",
        "colab_type": "code",
        "colab": {}
      },
      "source": [
        "#from sklearn.neighbors import KNeighborsClassifier\n",
        "#knn = KNeighborsClassifier(n_neighbors=5,p=2)\n",
        "#5개의 인접한 이웃, 거리측정기준 : 유클리드 \n",
        "#knn.fit\n",
        "#knn.fit(X_train,y_train)\n",
        "from sklearn.neighbors import KNeighborsClassifier\n",
        "\n",
        "#Setup arrays to store training and test accuracies\n",
        "neighbors = np.arange(1,100)\n",
        "train_accuracy =np.empty(len(neighbors))\n",
        "test_accuracy = np.empty(len(neighbors))\n",
        "\n",
        "for i,k in enumerate(neighbors):\n",
        "    #Setup a knn classifier with k neighbors\n",
        "    knn = KNeighborsClassifier(n_neighbors=k)\n",
        "    \n",
        "    #Fit the model\n",
        "    knn.fit(X_train, y_train)\n",
        "    \n",
        "    #Compute accuracy on the training set\n",
        "    train_accuracy[i] = knn.score(X_train, y_train)\n",
        "    \n",
        "    #Compute accuracy on the test set\n",
        "    test_accuracy[i] = knn.score(X_test, y_test) "
      ],
      "execution_count": null,
      "outputs": []
    },
    {
      "cell_type": "code",
      "metadata": {
        "id": "g-dkN_r_i3rB",
        "colab_type": "code",
        "colab": {
          "base_uri": "https://localhost:8080/",
          "height": 295
        },
        "outputId": "81ccc7e9-0762-4b7f-de76-dee7eb616ab6"
      },
      "source": [
        "#Generate plot\n",
        "plt.title('k-NN Varying number of neighbors')\n",
        "plt.plot(neighbors, test_accuracy, label='Testing Accuracy')\n",
        "plt.plot(neighbors, train_accuracy, label='Training accuracy')\n",
        "plt.legend()\n",
        "plt.xlabel('Number of neighbors')\n",
        "plt.ylabel('Accuracy')\n",
        "plt.show()\n"
      ],
      "execution_count": null,
      "outputs": [
        {
          "output_type": "display_data",
          "data": {
            "image/png": "[encoded data removed]",
            "text/plain": [
              "<Figure size 432x288 with 1 Axes>"
            ]
          },
          "metadata": {
            "tags": [],
            "needs_background": "light"
          }
        }
      ]
    },
    {
      "cell_type": "code",
      "metadata": {
        "id": "tJetVH3Vjs8O",
        "colab_type": "code",
        "colab": {
          "base_uri": "https://localhost:8080/",
          "height": 68
        },
        "outputId": "19bd3049-74db-47af-9f89-1497f33179f9"
      },
      "source": [
        "knn = KNeighborsClassifier(n_neighbors=7)\n",
        "knn.fit(X_train,y_train)"
      ],
      "execution_count": null,
      "outputs": [
        {
          "output_type": "execute_result",
          "data": {
            "text/plain": [
              "KNeighborsClassifier(algorithm='auto', leaf_size=30, metric='minkowski',\n",
              "                     metric_params=None, n_jobs=None, n_neighbors=7, p=2,\n",
              "                     weights='uniform')"
            ]
          },
          "metadata": {
            "tags": []
          },
          "execution_count": 215
        }
      ]
    },
    {
      "cell_type": "code",
      "metadata": {
        "id": "sQglA1Xhzd6b",
        "colab_type": "code",
        "colab": {
          "base_uri": "https://localhost:8080/",
          "height": 51
        },
        "outputId": "3e7bddb5-24d1-44a7-ce22-95692884d560"
      },
      "source": [
        "y_train_pred = knn.predict(X_train)\n",
        "y_test_pred = knn.predict(X_test) #모델을 적용한 test data dml y값 예측치 \n",
        "print('Misclassified training samples : %d' %(y_train!=y_train_pred).sum())\n",
        "# 오분류 데이터 갯수 확인 \n",
        "print('Misclassified test samples : %d' %(y_test!=y_test_pred).sum())"
      ],
      "execution_count": null,
      "outputs": [
        {
          "output_type": "stream",
          "text": [
            "Misclassified training samples : 73\n",
            "Misclassified test samples : 69\n"
          ],
          "name": "stdout"
        }
      ]
    },
    {
      "cell_type": "code",
      "metadata": {
        "id": "Q1HsL8CnzZ8H",
        "colab_type": "code",
        "colab": {
          "base_uri": "https://localhost:8080/",
          "height": 34
        },
        "outputId": "af2ba966-5b9b-46d3-e173-16696a47cd7f"
      },
      "source": [
        "from sklearn.metrics import accuracy_score\n",
        "print(accuracy_score(y_test,y_test_pred))"
      ],
      "execution_count": null,
      "outputs": [
        {
          "output_type": "stream",
          "text": [
            "0.7570422535211268\n"
          ],
          "name": "stdout"
        }
      ]
    },
    {
      "cell_type": "code",
      "metadata": {
        "id": "mWT6wUB7j4kG",
        "colab_type": "code",
        "colab": {
          "base_uri": "https://localhost:8080/",
          "height": 51
        },
        "outputId": "3061fcc7-ac1e-4431-ae1d-3e86e72a266a"
      },
      "source": [
        "from sklearn.metrics import confusion_matrix\n",
        "y_pred = knn.predict(X_test)\n",
        "confusion_matrix(y_test,y_pred)\n",
        "\n",
        "#True negative = 38\n",
        "#False positive = 35\n",
        "#True postive = 113\n",
        "#Fasle negative = 27"
      ],
      "execution_count": null,
      "outputs": [
        {
          "output_type": "execute_result",
          "data": {
            "text/plain": [
              "array([[ 57,  41],\n",
              "       [ 28, 158]])"
            ]
          },
          "metadata": {
            "tags": []
          },
          "execution_count": 218
        }
      ]
    },
    {
      "cell_type": "code",
      "metadata": {
        "id": "gSVIXiNCkM66",
        "colab_type": "code",
        "colab": {
          "base_uri": "https://localhost:8080/",
          "height": 173
        },
        "outputId": "51d0f9b8-51ee-4a01-a190-c655e89d9061"
      },
      "source": [
        "pd.crosstab(y_test, y_pred, rownames=['True'], colnames=['Predicted'], margins=True)"
      ],
      "execution_count": null,
      "outputs": [
        {
          "output_type": "execute_result",
          "data": {
            "text/html": [
              "<div>\n",
              "<style scoped>\n",
              "    .dataframe tbody tr th:only-of-type {\n",
              "        vertical-align: middle;\n",
              "    }\n",
              "\n",
              "    .dataframe tbody tr th {\n",
              "        vertical-align: top;\n",
              "    }\n",
              "\n",
              "    .dataframe thead th {\n",
              "        text-align: right;\n",
              "    }\n",
              "</style>\n",
              "<table border=\"1\" class=\"dataframe\">\n",
              "  <thead>\n",
              "    <tr style=\"text-align: right;\">\n",
              "      <th>Predicted</th>\n",
              "      <th>0</th>\n",
              "      <th>1</th>\n",
              "      <th>All</th>\n",
              "    </tr>\n",
              "    <tr>\n",
              "      <th>True</th>\n",
              "      <th></th>\n",
              "      <th></th>\n",
              "      <th></th>\n",
              "    </tr>\n",
              "  </thead>\n",
              "  <tbody>\n",
              "    <tr>\n",
              "      <th>0</th>\n",
              "      <td>57</td>\n",
              "      <td>41</td>\n",
              "      <td>98</td>\n",
              "    </tr>\n",
              "    <tr>\n",
              "      <th>1</th>\n",
              "      <td>28</td>\n",
              "      <td>158</td>\n",
              "      <td>186</td>\n",
              "    </tr>\n",
              "    <tr>\n",
              "      <th>All</th>\n",
              "      <td>85</td>\n",
              "      <td>199</td>\n",
              "      <td>284</td>\n",
              "    </tr>\n",
              "  </tbody>\n",
              "</table>\n",
              "</div>"
            ],
            "text/plain": [
              "Predicted   0    1  All\n",
              "True                   \n",
              "0          57   41   98\n",
              "1          28  158  186\n",
              "All        85  199  284"
            ]
          },
          "metadata": {
            "tags": []
          },
          "execution_count": 219
        }
      ]
    },
    {
      "cell_type": "code",
      "metadata": {
        "id": "SEbS8Iq6kSrV",
        "colab_type": "code",
        "colab": {
          "base_uri": "https://localhost:8080/",
          "height": 170
        },
        "outputId": "202098a3-c9f3-4bba-a22e-e2cd4c3cc43c"
      },
      "source": [
        "from sklearn.metrics import classification_report\n",
        "print(classification_report(y_test,y_pred))"
      ],
      "execution_count": null,
      "outputs": [
        {
          "output_type": "stream",
          "text": [
            "              precision    recall  f1-score   support\n",
            "\n",
            "           0       0.67      0.58      0.62        98\n",
            "           1       0.79      0.85      0.82       186\n",
            "\n",
            "    accuracy                           0.76       284\n",
            "   macro avg       0.73      0.72      0.72       284\n",
            "weighted avg       0.75      0.76      0.75       284\n",
            "\n"
          ],
          "name": "stdout"
        }
      ]
    },
    {
      "cell_type": "code",
      "metadata": {
        "id": "iV4ab_GvkeXm",
        "colab_type": "code",
        "colab": {}
      },
      "source": [
        "y_pred_proba = knn.predict_proba(X_test)[:,1]\n",
        "from sklearn.metrics import roc_curve\n",
        "fpr, tpr, thresholds = roc_curve(y_test, y_pred_proba)"
      ],
      "execution_count": null,
      "outputs": []
    },
    {
      "cell_type": "code",
      "metadata": {
        "id": "Ar9wDm91kk32",
        "colab_type": "code",
        "colab": {
          "base_uri": "https://localhost:8080/",
          "height": 295
        },
        "outputId": "1a042200-cd27-4320-c04e-140daee6d7a5"
      },
      "source": [
        "plt.plot([0,1],[0,1],'k--')\n",
        "plt.plot(fpr,tpr, label='Knn')\n",
        "plt.xlabel('fpr')\n",
        "plt.ylabel('tpr')\n",
        "plt.title('Knn(n_neighbors=7) ROC curve')\n",
        "plt.show()\n"
      ],
      "execution_count": null,
      "outputs": [
        {
          "output_type": "display_data",
          "data": {
            "image/png": "[encoded data removed]",
            "text/plain": [
              "<Figure size 432x288 with 1 Axes>"
            ]
          },
          "metadata": {
            "tags": [],
            "needs_background": "light"
          }
        }
      ]
    },
    {
      "cell_type": "code",
      "metadata": {
        "id": "JtjcWdNXkoof",
        "colab_type": "code",
        "colab": {
          "base_uri": "https://localhost:8080/",
          "height": 34
        },
        "outputId": "c4c5c0df-86da-4263-8001-ef801fc33bde"
      },
      "source": [
        "#Area under ROC curve\n",
        "from sklearn.metrics import roc_auc_score\n",
        "roc_auc_score(y_test,y_pred_proba)"
      ],
      "execution_count": null,
      "outputs": [
        {
          "output_type": "execute_result",
          "data": {
            "text/plain": [
              "0.7910357691463683"
            ]
          },
          "metadata": {
            "tags": []
          },
          "execution_count": 223
        }
      ]
    },
    {
      "cell_type": "code",
      "metadata": {
        "id": "bBP2ylYUkrjo",
        "colab_type": "code",
        "colab": {
          "base_uri": "https://localhost:8080/",
          "height": 272
        },
        "outputId": "a3742479-6422-4425-c3a1-e978a6760eea"
      },
      "source": [
        "from sklearn.model_selection import GridSearchCV\n",
        "param_grid = {'n_neighbors':np.arange(1,100)}\n",
        "knn = KNeighborsClassifier()\n",
        "knn_cv= GridSearchCV(knn,param_grid,cv=5)\n",
        "knn_cv.fit(X,y)"
      ],
      "execution_count": null,
      "outputs": [
        {
          "output_type": "execute_result",
          "data": {
            "text/plain": [
              "GridSearchCV(cv=5, error_score=nan,\n",
              "             estimator=KNeighborsClassifier(algorithm='auto', leaf_size=30,\n",
              "                                            metric='minkowski',\n",
              "                                            metric_params=None, n_jobs=None,\n",
              "                                            n_neighbors=5, p=2,\n",
              "                                            weights='uniform'),\n",
              "             iid='deprecated', n_jobs=None,\n",
              "             param_grid={'n_neighbors': array([ 1,  2,  3,  4,  5,  6,  7,  8,  9, 10, 11, 12, 13, 14, 15, 16, 17,\n",
              "       18, 19, 20, 21, 22, 23, 24, 25, 26, 27, 28, 29, 30, 31, 32, 33, 34,\n",
              "       35, 36, 37, 38, 39, 40, 41, 42, 43, 44, 45, 46, 47, 48, 49, 50, 51,\n",
              "       52, 53, 54, 55, 56, 57, 58, 59, 60, 61, 62, 63, 64, 65, 66, 67, 68,\n",
              "       69, 70, 71, 72, 73, 74, 75, 76, 77, 78, 79, 80, 81, 82, 83, 84, 85,\n",
              "       86, 87, 88, 89, 90, 91, 92, 93, 94, 95, 96, 97, 98, 99])},\n",
              "             pre_dispatch='2*n_jobs', refit=True, return_train_score=False,\n",
              "             scoring=None, verbose=0)"
            ]
          },
          "metadata": {
            "tags": []
          },
          "execution_count": 224
        }
      ]
    },
    {
      "cell_type": "code",
      "metadata": {
        "id": "f40B5BBBkyGm",
        "colab_type": "code",
        "colab": {
          "base_uri": "https://localhost:8080/",
          "height": 34
        },
        "outputId": "664a0f10-fa3a-4369-a5ae-78ec85a29a45"
      },
      "source": [
        "knn_cv.best_score_"
      ],
      "execution_count": null,
      "outputs": [
        {
          "output_type": "execute_result",
          "data": {
            "text/plain": [
              "0.7673259414643893"
            ]
          },
          "metadata": {
            "tags": []
          },
          "execution_count": 225
        }
      ]
    },
    {
      "cell_type": "code",
      "metadata": {
        "id": "QPPMRCwak0Qf",
        "colab_type": "code",
        "colab": {
          "base_uri": "https://localhost:8080/",
          "height": 34
        },
        "outputId": "20c68177-9f99-4d46-8e5d-54d810faa500"
      },
      "source": [
        "knn_cv.best_params_"
      ],
      "execution_count": null,
      "outputs": [
        {
          "output_type": "execute_result",
          "data": {
            "text/plain": [
              "{'n_neighbors': 14}"
            ]
          },
          "metadata": {
            "tags": []
          },
          "execution_count": 226
        }
      ]
    },
    {
      "cell_type": "code",
      "metadata": {
        "id": "qXJVqsEMk9Lh",
        "colab_type": "code",
        "colab": {
          "base_uri": "https://localhost:8080/",
          "height": 68
        },
        "outputId": "66838650-7eab-447c-c1ea-b311693150ec"
      },
      "source": [
        "knn = KNeighborsClassifier(n_neighbors=14)\n",
        "knn.fit(X_train,y_train)"
      ],
      "execution_count": null,
      "outputs": [
        {
          "output_type": "execute_result",
          "data": {
            "text/plain": [
              "KNeighborsClassifier(algorithm='auto', leaf_size=30, metric='minkowski',\n",
              "                     metric_params=None, n_jobs=None, n_neighbors=14, p=2,\n",
              "                     weights='uniform')"
            ]
          },
          "metadata": {
            "tags": []
          },
          "execution_count": 227
        }
      ]
    },
    {
      "cell_type": "code",
      "metadata": {
        "id": "jHoiaMbdlEI4",
        "colab_type": "code",
        "colab": {
          "base_uri": "https://localhost:8080/",
          "height": 51
        },
        "outputId": "0a4dfbd9-d4bb-4260-9be7-60423e00e8f3"
      },
      "source": [
        "y_train_pred = knn.predict(X_train)\n",
        "#y_test_pred = knn.predict(test_x)\n",
        "y_test_pred = knn.predict(X_test) #모델을 적용한 test data dml y값 예측치 \n",
        "print('Misclassified training samples : %d' %(y_train!=y_train_pred).sum())\n",
        "# 오분류 데이터 갯수 확인 \n",
        "print('Misclassified test samples : %d' %(y_test!=y_test_pred).sum())"
      ],
      "execution_count": null,
      "outputs": [
        {
          "output_type": "stream",
          "text": [
            "Misclassified training samples : 86\n",
            "Misclassified test samples : 69\n"
          ],
          "name": "stdout"
        }
      ]
    },
    {
      "cell_type": "code",
      "metadata": {
        "id": "Hzk5ppYzlIK1",
        "colab_type": "code",
        "colab": {
          "base_uri": "https://localhost:8080/",
          "height": 34
        },
        "outputId": "2472be50-701f-43c3-b85b-d5bab07d0091"
      },
      "source": [
        "from sklearn.metrics import accuracy_score\n",
        "print(accuracy_score(y_test,y_test_pred))"
      ],
      "execution_count": null,
      "outputs": [
        {
          "output_type": "stream",
          "text": [
            "0.7570422535211268\n"
          ],
          "name": "stdout"
        }
      ]
    },
    {
      "cell_type": "code",
      "metadata": {
        "id": "FH7LD5Mql1Xo",
        "colab_type": "code",
        "colab": {
          "base_uri": "https://localhost:8080/",
          "height": 34
        },
        "outputId": "d3399f54-2fed-49be-f3e4-3cdfb2a042ae"
      },
      "source": [
        "y_pred = knn.predict(test_x)\n",
        "test_x.shape"
      ],
      "execution_count": null,
      "outputs": [
        {
          "output_type": "execute_result",
          "data": {
            "text/plain": [
              "(50, 6)"
            ]
          },
          "metadata": {
            "tags": []
          },
          "execution_count": 230
        }
      ]
    },
    {
      "cell_type": "code",
      "metadata": {
        "id": "8YpwWutH976S",
        "colab_type": "code",
        "colab": {}
      },
      "source": [
        "predict = np.array(y_pred[:50]).reshape(-1,1).astype('int')\n",
        "id = np.array([i for i in range(len(predict))]).reshape(-1,1)\n",
        "result = np.hstack([id,predict])\n",
        "df = pd.DataFrame(result,columns=[\"ID\",\"Label\"])\n",
        "df.to_csv(\"submission_form.csv\",index=False,header=True)"
      ],
      "execution_count": null,
      "outputs": []
    },
    {
      "cell_type": "code",
      "metadata": {
        "id": "vNOlUd8SnHBe",
        "colab_type": "code",
        "colab": {
          "base_uri": "https://localhost:8080/",
          "height": 867
        },
        "outputId": "768dd8ff-69c0-4e78-9ba8-598c4c8a5efa"
      },
      "source": [
        "predict"
      ],
      "execution_count": null,
      "outputs": [
        {
          "output_type": "execute_result",
          "data": {
            "text/plain": [
              "array([[1],\n",
              "       [1],\n",
              "       [1],\n",
              "       [1],\n",
              "       [1],\n",
              "       [1],\n",
              "       [1],\n",
              "       [1],\n",
              "       [1],\n",
              "       [1],\n",
              "       [0],\n",
              "       [1],\n",
              "       [1],\n",
              "       [1],\n",
              "       [0],\n",
              "       [1],\n",
              "       [1],\n",
              "       [1],\n",
              "       [1],\n",
              "       [1],\n",
              "       [1],\n",
              "       [1],\n",
              "       [0],\n",
              "       [1],\n",
              "       [1],\n",
              "       [0],\n",
              "       [0],\n",
              "       [1],\n",
              "       [0],\n",
              "       [1],\n",
              "       [0],\n",
              "       [0],\n",
              "       [1],\n",
              "       [1],\n",
              "       [1],\n",
              "       [0],\n",
              "       [0],\n",
              "       [0],\n",
              "       [1],\n",
              "       [1],\n",
              "       [1],\n",
              "       [0],\n",
              "       [1],\n",
              "       [0],\n",
              "       [1],\n",
              "       [1],\n",
              "       [1],\n",
              "       [1],\n",
              "       [1],\n",
              "       [1]])"
            ]
          },
          "metadata": {
            "tags": []
          },
          "execution_count": 232
        }
      ]
    },
    {
      "cell_type": "code",
      "metadata": {
        "id": "jreHOTJYA27q",
        "colab_type": "code",
        "colab": {
          "base_uri": "https://localhost:8080/",
          "height": 51
        },
        "outputId": "e57460f2-5ad0-4365-cc13-24ef110a0be4"
      },
      "source": [
        "!kaggle competitions submit -c logistic-classification-diabetes-knn -f submission_form.csv -m \"14010974_이기택\""
      ],
      "execution_count": null,
      "outputs": [
        {
          "output_type": "stream",
          "text": [
            "100% 249/249 [00:01<00:00, 146B/s]\n",
            "Successfully submitted to logistic classification : diabetes KNN"
          ],
          "name": "stdout"
        }
      ]
    }
  ]
}